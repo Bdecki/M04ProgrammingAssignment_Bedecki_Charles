{
 "cells": [
  {
   "cell_type": "code",
   "execution_count": null,
   "id": "666abaeb",
   "metadata": {},
   "outputs": [],
   "source": [
    "##11.1 Part 1\n",
    "\n",
    "##zoo.py\n",
    "def hours():\n",
    "    print(\"Open 9-5 daily\")"
   ]
  },
  {
   "cell_type": "code",
   "execution_count": null,
   "id": "9f89c5fa",
   "metadata": {},
   "outputs": [],
   "source": [
    "##11.1 Part 2\n",
    "\n",
    "import zoo\n",
    "zoo.hours()"
   ]
  },
  {
   "cell_type": "code",
   "execution_count": null,
   "id": "22e2db27",
   "metadata": {},
   "outputs": [],
   "source": [
    "##11.2\n",
    "\n",
    "import zoo as menagerie\n",
    "menagerie.hours()"
   ]
  },
  {
   "cell_type": "code",
   "execution_count": null,
   "id": "541bd391",
   "metadata": {},
   "outputs": [],
   "source": [
    "##16.8\n",
    "\n",
    "from sqlalchemy import books.db\n",
    "\n",
    "\n",
    "SELECT title FROM books ORDER BY title;\n",
    "print(title)"
   ]
  }
 ],
 "metadata": {
  "kernelspec": {
   "display_name": "Python 3 (ipykernel)",
   "language": "python",
   "name": "python3"
  },
  "language_info": {
   "codemirror_mode": {
    "name": "ipython",
    "version": 3
   },
   "file_extension": ".py",
   "mimetype": "text/x-python",
   "name": "python",
   "nbconvert_exporter": "python",
   "pygments_lexer": "ipython3",
   "version": "3.9.12"
  }
 },
 "nbformat": 4,
 "nbformat_minor": 5
}
